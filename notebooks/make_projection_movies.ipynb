{
 "cells": [
  {
   "cell_type": "code",
   "execution_count": 1,
   "metadata": {
    "ExecuteTime": {
     "end_time": "2024-02-28T04:17:37.125557100Z",
     "start_time": "2024-02-28T04:17:15.605557200Z"
    }
   },
   "outputs": [],
   "source": [
    "import napari\n",
    "import os\n",
    "from tqdm import tqdm\n",
    "import numpy as np\n",
    "import glob2 as glob\n",
    "import zarr\n",
    "import json\n",
    "import skimage.io as io\n",
    "import pandas as pd\n",
    "import umap.umap_ as umap\n",
    "from sklearn.preprocessing import StandardScaler\n",
    "\n",
    "# # set parameters\n",
    "root = \"E:\\\\Nick\\\\Cole Trapnell's Lab Dropbox\\\\Nick Lammers\\\\Nick\\\\killi_tracker\\\\\"\n",
    "project_name = \"240219_LCP1_93hpf_to_127hpf\"\n",
    "image_dir = os.path.join(root, \"built_data\", project_name, \"\")\n",
    "config_name = \"tracking_cell.txt\"# \n",
    "tracking_folder = config_name.replace(\".txt\", \"\")\n",
    "tracking_folder = tracking_folder.replace(\".toml\", \"\")\n",
    "\n",
    "tracking_directory = os.path.join(root, \"built_data\", \"tracking\", project_name, tracking_folder)\n",
    "snip_directory = os.path.join(root, \"built_data\", \"shape_snips\", project_name, tracking_folder, \"class0\")\n",
    "\n",
    "# load metadata\n",
    "metadata_file_path = os.path.join(root, \"metadata\", project_name, \"metadata.json\")\n",
    "f = open(metadata_file_path)\n",
    "metadata = json.load(f)\n",
    "scale_vec = np.asarray([metadata[\"ProbPhysicalSizeZ\"], metadata[\"ProbPhysicalSizeY\"], metadata[\"ProbPhysicalSizeX\"]])"
   ]
  },
  {
   "cell_type": "markdown",
   "metadata": {},
   "source": [
    "## Load tracking DF"
   ]
  },
  {
   "cell_type": "code",
   "execution_count": 2,
   "metadata": {
    "ExecuteTime": {
     "end_time": "2024-02-28T04:17:37.170556900Z",
     "start_time": "2024-02-28T04:17:37.126560300Z"
    }
   },
   "outputs": [
    {
     "data": {
      "text/plain": "   track_id  t    z      y     x       id  parent_track_id  parent_id\n0         1  0  2.0  117.0  57.0  1000001               -1         -1\n1         1  1  2.0  118.0  56.0  2000001               -1    1000001\n2         1  2  2.0  119.0  55.0  3000001               -1    2000001\n3         1  3  2.0  119.0  55.0  4000001               -1    3000001\n4         1  4  2.0  120.0  57.0  5000001               -1    4000001",
      "text/html": "<div>\n<style scoped>\n    .dataframe tbody tr th:only-of-type {\n        vertical-align: middle;\n    }\n\n    .dataframe tbody tr th {\n        vertical-align: top;\n    }\n\n    .dataframe thead th {\n        text-align: right;\n    }\n</style>\n<table border=\"1\" class=\"dataframe\">\n  <thead>\n    <tr style=\"text-align: right;\">\n      <th></th>\n      <th>track_id</th>\n      <th>t</th>\n      <th>z</th>\n      <th>y</th>\n      <th>x</th>\n      <th>id</th>\n      <th>parent_track_id</th>\n      <th>parent_id</th>\n    </tr>\n  </thead>\n  <tbody>\n    <tr>\n      <th>0</th>\n      <td>1</td>\n      <td>0</td>\n      <td>2.0</td>\n      <td>117.0</td>\n      <td>57.0</td>\n      <td>1000001</td>\n      <td>-1</td>\n      <td>-1</td>\n    </tr>\n    <tr>\n      <th>1</th>\n      <td>1</td>\n      <td>1</td>\n      <td>2.0</td>\n      <td>118.0</td>\n      <td>56.0</td>\n      <td>2000001</td>\n      <td>-1</td>\n      <td>1000001</td>\n    </tr>\n    <tr>\n      <th>2</th>\n      <td>1</td>\n      <td>2</td>\n      <td>2.0</td>\n      <td>119.0</td>\n      <td>55.0</td>\n      <td>3000001</td>\n      <td>-1</td>\n      <td>2000001</td>\n    </tr>\n    <tr>\n      <th>3</th>\n      <td>1</td>\n      <td>3</td>\n      <td>2.0</td>\n      <td>119.0</td>\n      <td>55.0</td>\n      <td>4000001</td>\n      <td>-1</td>\n      <td>3000001</td>\n    </tr>\n    <tr>\n      <th>4</th>\n      <td>1</td>\n      <td>4</td>\n      <td>2.0</td>\n      <td>120.0</td>\n      <td>57.0</td>\n      <td>5000001</td>\n      <td>-1</td>\n      <td>4000001</td>\n    </tr>\n  </tbody>\n</table>\n</div>"
     },
     "execution_count": 2,
     "metadata": {},
     "output_type": "execute_result"
    }
   ],
   "source": [
    "# load tracking data\n",
    "tracks_df = pd.read_csv(os.path.join(tracking_directory, \"tracks.csv\"))\n",
    "tracks_df.head()"
   ]
  },
  {
   "cell_type": "markdown",
   "metadata": {},
   "source": [
    "## Load sphere coordinate DF"
   ]
  },
  {
   "cell_type": "code",
   "execution_count": 3,
   "metadata": {
    "ExecuteTime": {
     "end_time": "2024-02-28T04:17:37.187556900Z",
     "start_time": "2024-02-28T04:17:37.174555Z"
    }
   },
   "outputs": [],
   "source": [
    "# load tracking data\n",
    "sphere_df = pd.read_csv(os.path.join(root, \"metadata\", project_name, \"sphere_df.csv\"))\n",
    "sphere_df.tail()\n",
    "si = np.argsort(sphere_df[\"t\"])\n",
    "sphere_df = sphere_df.loc[si, :]\n",
    "sphere_df.reset_index(inplace=True)"
   ]
  },
  {
   "cell_type": "code",
   "execution_count": 4,
   "metadata": {
    "ExecuteTime": {
     "end_time": "2024-02-28T04:17:37.260559500Z",
     "start_time": "2024-02-28T04:17:37.191555900Z"
    }
   },
   "outputs": [
    {
     "data": {
      "text/plain": "   index           Z           Y           X           r  t  \\\n0    322 -130.922350  612.522760  638.747552  585.680548  0   \n1    323 -123.378080  605.774383  642.860044  582.202359  1   \n2    324 -141.222175  617.822052  640.930389  590.617249  2   \n3    325 -144.150005  623.900840  641.322136  592.381337  3   \n4    326 -142.505268  625.025248  641.688937  590.190236  4   \n\n                       project          ZM          YM          XM          rm  \n0  240219_LCP1_93hpf_to_127hpf -131.840868  612.039732  640.845995  586.166719  \n1  240219_LCP1_93hpf_to_127hpf -134.918153  615.005009  640.965030  587.720373  \n2  240219_LCP1_93hpf_to_127hpf -136.435576  617.009057  641.109812  588.214346  \n3  240219_LCP1_93hpf_to_127hpf -139.141170  620.080003  641.838164  589.142819  \n4  240219_LCP1_93hpf_to_127hpf -144.301180  624.557621  641.668935  591.334294  ",
      "text/html": "<div>\n<style scoped>\n    .dataframe tbody tr th:only-of-type {\n        vertical-align: middle;\n    }\n\n    .dataframe tbody tr th {\n        vertical-align: top;\n    }\n\n    .dataframe thead th {\n        text-align: right;\n    }\n</style>\n<table border=\"1\" class=\"dataframe\">\n  <thead>\n    <tr style=\"text-align: right;\">\n      <th></th>\n      <th>index</th>\n      <th>Z</th>\n      <th>Y</th>\n      <th>X</th>\n      <th>r</th>\n      <th>t</th>\n      <th>project</th>\n      <th>ZM</th>\n      <th>YM</th>\n      <th>XM</th>\n      <th>rm</th>\n    </tr>\n  </thead>\n  <tbody>\n    <tr>\n      <th>0</th>\n      <td>322</td>\n      <td>-130.922350</td>\n      <td>612.522760</td>\n      <td>638.747552</td>\n      <td>585.680548</td>\n      <td>0</td>\n      <td>240219_LCP1_93hpf_to_127hpf</td>\n      <td>-131.840868</td>\n      <td>612.039732</td>\n      <td>640.845995</td>\n      <td>586.166719</td>\n    </tr>\n    <tr>\n      <th>1</th>\n      <td>323</td>\n      <td>-123.378080</td>\n      <td>605.774383</td>\n      <td>642.860044</td>\n      <td>582.202359</td>\n      <td>1</td>\n      <td>240219_LCP1_93hpf_to_127hpf</td>\n      <td>-134.918153</td>\n      <td>615.005009</td>\n      <td>640.965030</td>\n      <td>587.720373</td>\n    </tr>\n    <tr>\n      <th>2</th>\n      <td>324</td>\n      <td>-141.222175</td>\n      <td>617.822052</td>\n      <td>640.930389</td>\n      <td>590.617249</td>\n      <td>2</td>\n      <td>240219_LCP1_93hpf_to_127hpf</td>\n      <td>-136.435576</td>\n      <td>617.009057</td>\n      <td>641.109812</td>\n      <td>588.214346</td>\n    </tr>\n    <tr>\n      <th>3</th>\n      <td>325</td>\n      <td>-144.150005</td>\n      <td>623.900840</td>\n      <td>641.322136</td>\n      <td>592.381337</td>\n      <td>3</td>\n      <td>240219_LCP1_93hpf_to_127hpf</td>\n      <td>-139.141170</td>\n      <td>620.080003</td>\n      <td>641.838164</td>\n      <td>589.142819</td>\n    </tr>\n    <tr>\n      <th>4</th>\n      <td>326</td>\n      <td>-142.505268</td>\n      <td>625.025248</td>\n      <td>641.688937</td>\n      <td>590.190236</td>\n      <td>4</td>\n      <td>240219_LCP1_93hpf_to_127hpf</td>\n      <td>-144.301180</td>\n      <td>624.557621</td>\n      <td>641.668935</td>\n      <td>591.334294</td>\n    </tr>\n  </tbody>\n</table>\n</div>"
     },
     "execution_count": 4,
     "metadata": {},
     "output_type": "execute_result"
    }
   ],
   "source": [
    "# generate smoothed sphere coordinates\n",
    "window_size = 5\n",
    "sphere_df[\"ZM\"] = sphere_df[\"Z\"].rolling(window_size, center=True, min_periods=1).mean() #/ scale_vec[0]\n",
    "sphere_df[\"YM\"] = sphere_df[\"Y\"].rolling(window_size, center=True, min_periods=1).mean() #/ scale_vec[1]\n",
    "sphere_df[\"XM\"] = sphere_df[\"X\"].rolling(window_size, center=True, min_periods=1).mean() #/ scale_vec[2]\n",
    "sphere_df[\"rm\"] = sphere_df[\"r\"].rolling(window_size, center=True, min_periods=1).mean() #/ scale_vec[0]\n",
    "\n",
    "tracks_df[\"zum\"] = tracks_df[\"z\"] *scale_vec[0]\n",
    "tracks_df[\"yum\"] = tracks_df[\"y\"] *scale_vec[1]\n",
    "tracks_df[\"xum\"] = tracks_df[\"x\"] *scale_vec[2]\n",
    "sphere_df.head()"
   ]
  },
  {
   "cell_type": "markdown",
   "metadata": {},
   "source": [
    "## 3D visuals"
   ]
  },
  {
   "cell_type": "code",
   "execution_count": 5,
   "metadata": {
    "ExecuteTime": {
     "end_time": "2024-02-28T04:17:37.804565800Z",
     "start_time": "2024-02-28T04:17:37.222559400Z"
    }
   },
   "outputs": [],
   "source": [
    "import pandas as pd\n",
    "import plotly.express as px\n",
    "import plotly.graph_objects as go\n",
    "\n",
    "def ms(x, y, z, radius, resolution=20):\n",
    "    \"\"\"Return the coordinates for plotting a sphere centered at (x,y,z)\"\"\"\n",
    "    u, v = np.mgrid[0:2*np.pi:resolution*2j, 0:np.pi:resolution*1j]\n",
    "    X = radius * np.cos(u)*np.sin(v) + x\n",
    "    Y = radius * np.sin(u)*np.sin(v) + y\n",
    "    Z = radius * np.cos(v) + z\n",
    "    return (X, Y, Z)"
   ]
  },
  {
   "cell_type": "code",
   "execution_count": 7,
   "metadata": {
    "ExecuteTime": {
     "end_time": "2024-02-28T04:17:37.837571900Z",
     "start_time": "2024-02-28T04:17:37.818565400Z"
    }
   },
   "outputs": [],
   "source": [
    "plotly_repmap = np.asarray(px.colors.qualitative.Plotly*100)\n",
    "tracks_df[\"plot_color\"] = plotly_repmap[tracks_df[\"track_id\"]]"
   ]
  },
  {
   "cell_type": "code",
   "execution_count": 8,
   "metadata": {
    "ExecuteTime": {
     "end_time": "2024-02-28T04:17:40.503565900Z",
     "start_time": "2024-02-28T04:17:37.843567800Z"
    }
   },
   "outputs": [
    {
     "name": "stderr",
     "output_type": "stream",
     "text": [
      "  0%|          | 0/1350 [00:00<?, ?it/s]\n"
     ]
    },
    {
     "ename": "ValueError",
     "evalue": "\nImage export using the \"kaleido\" engine requires the kaleido package,\nwhich can be installed using pip:\n    $ pip install -U kaleido\n",
     "output_type": "error",
     "traceback": [
      "\u001B[1;31m---------------------------------------------------------------------------\u001B[0m",
      "\u001B[1;31mValueError\u001B[0m                                Traceback (most recent call last)",
      "Cell \u001B[1;32mIn[8], line 59\u001B[0m\n\u001B[0;32m     51\u001B[0m     camera \u001B[38;5;241m=\u001B[39m \u001B[38;5;28mdict\u001B[39m(\n\u001B[0;32m     52\u001B[0m         up\u001B[38;5;241m=\u001B[39m\u001B[38;5;28mdict\u001B[39m(x\u001B[38;5;241m=\u001B[39m\u001B[38;5;241m0\u001B[39m, y\u001B[38;5;241m=\u001B[39m\u001B[38;5;241m0\u001B[39m, z\u001B[38;5;241m=\u001B[39m\u001B[38;5;241m1\u001B[39m),\n\u001B[0;32m     53\u001B[0m         center\u001B[38;5;241m=\u001B[39m\u001B[38;5;28mdict\u001B[39m(x\u001B[38;5;241m=\u001B[39m\u001B[38;5;241m0\u001B[39m, y\u001B[38;5;241m=\u001B[39m\u001B[38;5;241m0\u001B[39m, z\u001B[38;5;241m=\u001B[39m\u001B[38;5;241m0\u001B[39m),\n\u001B[0;32m     54\u001B[0m         eye\u001B[38;5;241m=\u001B[39m\u001B[38;5;28mdict\u001B[39m(x\u001B[38;5;241m=\u001B[39m\u001B[38;5;241m1\u001B[39m, y\u001B[38;5;241m=\u001B[39m\u001B[38;5;241m1\u001B[39m, z\u001B[38;5;241m=\u001B[39m\u001B[38;5;241m2\u001B[39m)\n\u001B[0;32m     55\u001B[0m     )\n\u001B[0;32m     57\u001B[0m     fig\u001B[38;5;241m.\u001B[39mupdate_layout(scene_camera\u001B[38;5;241m=\u001B[39mcamera)\n\u001B[1;32m---> 59\u001B[0m     \u001B[43mfig\u001B[49m\u001B[38;5;241;43m.\u001B[39;49m\u001B[43mwrite_image\u001B[49m\u001B[43m(\u001B[49m\u001B[43mos\u001B[49m\u001B[38;5;241;43m.\u001B[39;49m\u001B[43mpath\u001B[49m\u001B[38;5;241;43m.\u001B[39;49m\u001B[43mjoin\u001B[49m\u001B[43m(\u001B[49m\u001B[43mtrack_path_3d\u001B[49m\u001B[43m,\u001B[49m\u001B[43m \u001B[49m\u001B[38;5;124;43mf\u001B[39;49m\u001B[38;5;124;43m'\u001B[39;49m\u001B[38;5;124;43mframe3d_t\u001B[39;49m\u001B[38;5;132;43;01m{\u001B[39;49;00m\u001B[43mtime_id\u001B[49m\u001B[38;5;132;43;01m:\u001B[39;49;00m\u001B[38;5;124;43m04\u001B[39;49m\u001B[38;5;132;43;01m}\u001B[39;49;00m\u001B[38;5;124;43m.png\u001B[39;49m\u001B[38;5;124;43m'\u001B[39;49m\u001B[43m)\u001B[49m\u001B[43m,\u001B[49m\u001B[43m \u001B[49m\u001B[43mscale\u001B[49m\u001B[38;5;241;43m=\u001B[39;49m\u001B[38;5;241;43m3\u001B[39;49m\u001B[43m)\u001B[49m\n\u001B[0;32m     61\u001B[0m fig\u001B[38;5;241m.\u001B[39mshow()\n",
      "File \u001B[1;32m~\\miniconda3\\lib\\site-packages\\plotly\\basedatatypes.py:3843\u001B[0m, in \u001B[0;36mBaseFigure.write_image\u001B[1;34m(self, *args, **kwargs)\u001B[0m\n\u001B[0;32m   3783\u001B[0m \u001B[38;5;250m\u001B[39m\u001B[38;5;124;03m\"\"\"\u001B[39;00m\n\u001B[0;32m   3784\u001B[0m \u001B[38;5;124;03mConvert a figure to a static image and write it to a file or writeable\u001B[39;00m\n\u001B[0;32m   3785\u001B[0m \u001B[38;5;124;03mobject\u001B[39;00m\n\u001B[1;32m   (...)\u001B[0m\n\u001B[0;32m   3839\u001B[0m \u001B[38;5;124;03mNone\u001B[39;00m\n\u001B[0;32m   3840\u001B[0m \u001B[38;5;124;03m\"\"\"\u001B[39;00m\n\u001B[0;32m   3841\u001B[0m \u001B[38;5;28;01mimport\u001B[39;00m \u001B[38;5;21;01mplotly\u001B[39;00m\u001B[38;5;21;01m.\u001B[39;00m\u001B[38;5;21;01mio\u001B[39;00m \u001B[38;5;28;01mas\u001B[39;00m \u001B[38;5;21;01mpio\u001B[39;00m\n\u001B[1;32m-> 3843\u001B[0m \u001B[38;5;28;01mreturn\u001B[39;00m pio\u001B[38;5;241m.\u001B[39mwrite_image(\u001B[38;5;28mself\u001B[39m, \u001B[38;5;241m*\u001B[39margs, \u001B[38;5;241m*\u001B[39m\u001B[38;5;241m*\u001B[39mkwargs)\n",
      "File \u001B[1;32m~\\miniconda3\\lib\\site-packages\\plotly\\io\\_kaleido.py:267\u001B[0m, in \u001B[0;36mwrite_image\u001B[1;34m(fig, file, format, scale, width, height, validate, engine)\u001B[0m\n\u001B[0;32m    251\u001B[0m             \u001B[38;5;28;01mraise\u001B[39;00m \u001B[38;5;167;01mValueError\u001B[39;00m(\n\u001B[0;32m    252\u001B[0m \u001B[38;5;250m                \u001B[39m\u001B[38;5;124;03m\"\"\"\u001B[39;00m\n\u001B[0;32m    253\u001B[0m \u001B[38;5;124;03mCannot infer image type from output path '{file}'.\u001B[39;00m\n\u001B[1;32m   (...)\u001B[0m\n\u001B[0;32m    261\u001B[0m                 )\n\u001B[0;32m    262\u001B[0m             )\n\u001B[0;32m    264\u001B[0m     \u001B[38;5;66;03m# Request image\u001B[39;00m\n\u001B[0;32m    265\u001B[0m     \u001B[38;5;66;03m# -------------\u001B[39;00m\n\u001B[0;32m    266\u001B[0m     \u001B[38;5;66;03m# Do this first so we don't create a file if image conversion fails\u001B[39;00m\n\u001B[1;32m--> 267\u001B[0m     img_data \u001B[38;5;241m=\u001B[39m \u001B[43mto_image\u001B[49m\u001B[43m(\u001B[49m\n\u001B[0;32m    268\u001B[0m \u001B[43m        \u001B[49m\u001B[43mfig\u001B[49m\u001B[43m,\u001B[49m\n\u001B[0;32m    269\u001B[0m \u001B[43m        \u001B[49m\u001B[38;5;28;43mformat\u001B[39;49m\u001B[38;5;241;43m=\u001B[39;49m\u001B[38;5;28;43mformat\u001B[39;49m\u001B[43m,\u001B[49m\n\u001B[0;32m    270\u001B[0m \u001B[43m        \u001B[49m\u001B[43mscale\u001B[49m\u001B[38;5;241;43m=\u001B[39;49m\u001B[43mscale\u001B[49m\u001B[43m,\u001B[49m\n\u001B[0;32m    271\u001B[0m \u001B[43m        \u001B[49m\u001B[43mwidth\u001B[49m\u001B[38;5;241;43m=\u001B[39;49m\u001B[43mwidth\u001B[49m\u001B[43m,\u001B[49m\n\u001B[0;32m    272\u001B[0m \u001B[43m        \u001B[49m\u001B[43mheight\u001B[49m\u001B[38;5;241;43m=\u001B[39;49m\u001B[43mheight\u001B[49m\u001B[43m,\u001B[49m\n\u001B[0;32m    273\u001B[0m \u001B[43m        \u001B[49m\u001B[43mvalidate\u001B[49m\u001B[38;5;241;43m=\u001B[39;49m\u001B[43mvalidate\u001B[49m\u001B[43m,\u001B[49m\n\u001B[0;32m    274\u001B[0m \u001B[43m        \u001B[49m\u001B[43mengine\u001B[49m\u001B[38;5;241;43m=\u001B[39;49m\u001B[43mengine\u001B[49m\u001B[43m,\u001B[49m\n\u001B[0;32m    275\u001B[0m \u001B[43m    \u001B[49m\u001B[43m)\u001B[49m\n\u001B[0;32m    277\u001B[0m     \u001B[38;5;66;03m# Open file\u001B[39;00m\n\u001B[0;32m    278\u001B[0m     \u001B[38;5;66;03m# ---------\u001B[39;00m\n\u001B[0;32m    279\u001B[0m     \u001B[38;5;28;01mif\u001B[39;00m path \u001B[38;5;129;01mis\u001B[39;00m \u001B[38;5;28;01mNone\u001B[39;00m:\n\u001B[0;32m    280\u001B[0m         \u001B[38;5;66;03m# We previously failed to make sense of `file` as a pathlib object.\u001B[39;00m\n\u001B[0;32m    281\u001B[0m         \u001B[38;5;66;03m# Attempt to write to `file` as an open file descriptor.\u001B[39;00m\n",
      "File \u001B[1;32m~\\miniconda3\\lib\\site-packages\\plotly\\io\\_kaleido.py:133\u001B[0m, in \u001B[0;36mto_image\u001B[1;34m(fig, format, width, height, scale, validate, engine)\u001B[0m\n\u001B[0;32m    131\u001B[0m     \u001B[38;5;66;03m# Raise informative error message if Kaleido is not installed\u001B[39;00m\n\u001B[0;32m    132\u001B[0m     \u001B[38;5;28;01mif\u001B[39;00m scope \u001B[38;5;129;01mis\u001B[39;00m \u001B[38;5;28;01mNone\u001B[39;00m:\n\u001B[1;32m--> 133\u001B[0m         \u001B[38;5;28;01mraise\u001B[39;00m \u001B[38;5;167;01mValueError\u001B[39;00m(\n\u001B[0;32m    134\u001B[0m \u001B[38;5;250m            \u001B[39m\u001B[38;5;124;03m\"\"\"\u001B[39;00m\n\u001B[0;32m    135\u001B[0m \u001B[38;5;124;03mImage export using the \"kaleido\" engine requires the kaleido package,\u001B[39;00m\n\u001B[0;32m    136\u001B[0m \u001B[38;5;124;03mwhich can be installed using pip:\u001B[39;00m\n\u001B[0;32m    137\u001B[0m \u001B[38;5;124;03m    $ pip install -U kaleido\u001B[39;00m\n\u001B[0;32m    138\u001B[0m \u001B[38;5;124;03m\"\"\"\u001B[39;00m\n\u001B[0;32m    139\u001B[0m         )\n\u001B[0;32m    141\u001B[0m     \u001B[38;5;66;03m# Validate figure\u001B[39;00m\n\u001B[0;32m    142\u001B[0m     \u001B[38;5;66;03m# ---------------\u001B[39;00m\n\u001B[0;32m    143\u001B[0m     fig_dict \u001B[38;5;241m=\u001B[39m validate_coerce_fig_to_dict(fig, validate)\n",
      "\u001B[1;31mValueError\u001B[0m: \nImage export using the \"kaleido\" engine requires the kaleido package,\nwhich can be installed using pip:\n    $ pip install -U kaleido\n"
     ]
    }
   ],
   "source": [
    "from tqdm import tqdm\n",
    "\n",
    "time_id = 700\n",
    "mem = 10\n",
    "time_index = np.unique(tracks_df[\"t\"])\n",
    "figure_root = os.path.join(root, \"figures\", project_name, tracking_folder)\n",
    "if not os.path.isdir(figure_root):\n",
    "    os.makedirs(figure_root)\n",
    "    \n",
    "track_path_3d = os.path.join(figure_root, \"track_plots_3d\")\n",
    "if not os.path.isdir(track_path_3d):\n",
    "    os.makedirs(track_path_3d)\n",
    "\n",
    "for time_id in tqdm(time_index):\n",
    "    tracks_df_ft = tracks_df.loc[tracks_df[\"t\"]==time_id]\n",
    "    tracks_df_ft_mem = tracks_df.loc[(tracks_df[\"t\"]<=time_id) & (tracks_df[\"t\"]>time_id-mem) ]\n",
    "    x_pns_surface, y_pns_surface, z_pns_suraface = ms(sphere_df.loc[time_id, \"XM\"], \n",
    "                                                      sphere_df.loc[time_id, \"YM\"], \n",
    "                                                      sphere_df.loc[time_id, \"ZM\"],sphere_df.loc[time_id, \"rm\"]*0.95)\n",
    "\n",
    "    point_array = tracks_df_ft.loc[:, [\"xum\", \"yum\", \"zum\"]].to_numpy()\n",
    "    point_ids = tracks_df_ft.loc[:, [\"track_id\"]].to_numpy().flatten()\n",
    "    point_colors = tracks_df_ft.loc[:, [\"plot_color\"]].to_numpy().flatten()\n",
    "    track_array = tracks_df_ft_mem.loc[:, [\"xum\", \"yum\", \"zum\"]].to_numpy()\n",
    "    track_ids = tracks_df_ft_mem.loc[:, [\"track_id\"]].to_numpy().flatten()\n",
    "    track_colors = tracks_df_ft_mem.loc[:, [\"plot_color\"]].to_numpy().flatten()\n",
    "\n",
    "    extant_ids = np.unique(track_ids)\n",
    "\n",
    "    fig = go.Figure()\n",
    "    fig.add_trace(go.Surface(x=x_pns_surface, y=y_pns_surface, z=z_pns_suraface, opacity=0.75, \n",
    "                             colorscale=\"Blues\"))#, lighting=dict(ambient=0.5)))\n",
    "\n",
    "    for t in range(len(extant_ids)-1):\n",
    "        tid = extant_ids[t]\n",
    "        point_ft = point_ids==tid\n",
    "        track_ft = track_ids==tid\n",
    "\n",
    "        if np.sum(point_ft) > 0:\n",
    "            fig.add_trace(go.Scatter3d(x=point_array[point_ft, 0], y=point_array[point_ft, 1], z=point_array[point_ft, 2], \n",
    "                                       mode=\"markers\", showlegend=False, marker=dict(color=point_colors[point_ft], size=6)))\n",
    "\n",
    "        fig.add_trace(go.Scatter3d(x=track_array[track_ft, 0], y=track_array[track_ft, 1], z=track_array[track_ft, 2], \n",
    "                                   mode=\"lines\", showlegend=False, line=dict(color=track_colors[track_ft])))\n",
    "\n",
    "    fig.update_layout(scene = dict(\n",
    "                        xaxis_title='x (um)',\n",
    "                        yaxis_title='y (um)',\n",
    "                        zaxis_title='z (um)'))\n",
    "\n",
    "    camera = dict(\n",
    "        up=dict(x=0, y=0, z=1),\n",
    "        center=dict(x=0, y=0, z=0),\n",
    "        eye=dict(x=1, y=1, z=2)\n",
    "    )\n",
    "\n",
    "    fig.update_layout(scene_camera=camera)\n",
    "    \n",
    "    fig.write_image(os.path.join(track_path_3d, f'frame3d_t{time_id:04}.png'), scale=3)\n",
    "\n",
    "fig.show()"
   ]
  },
  {
   "cell_type": "code",
   "execution_count": null,
   "metadata": {},
   "outputs": [],
   "source": []
  },
  {
   "cell_type": "markdown",
   "metadata": {},
   "source": [
    "## 2D visuals"
   ]
  },
  {
   "cell_type": "code",
   "execution_count": null,
   "metadata": {},
   "outputs": [],
   "source": [
    "from astropy.coordinates import cartesian_to_spherical\n",
    "\n",
    "time_id = 700\n",
    "\n",
    "tracks_df_ft = tracks_df.loc[tracks_df[\"t\"]==time_id]\n",
    "track_coords_cart = tracks_df_ft.loc[:, [\"x\", \"y\", \"z\"]].to_numpy()\n",
    "sphere_center = np.asarray([sphere_df.loc[time_id, \"XM\"], sphere_df.loc[time_id, \"YM\"], sphere_df.loc[time_id, \"ZM\"]])\n",
    "track_coords_centered = track_coords_cart - sphere_center\n",
    "\n",
    "track_coords_sph = cartesian_to_spherical(track_coords_centered[:, 0], track_coords_centered[:, 1], track_coords_centered[:, 2])\n",
    "track_array = np.asarray([c.value for c in track_coords_sph]).T\n",
    "\n",
    "\n",
    "fig = px.scatter(x=track_array[:, 2], y=track_array[:, 1])\n",
    "fig.show()"
   ]
  },
  {
   "cell_type": "code",
   "execution_count": null,
   "metadata": {},
   "outputs": [],
   "source": []
  },
  {
   "cell_type": "code",
   "execution_count": null,
   "metadata": {},
   "outputs": [],
   "source": [
    "from tqdm import tqdm\n",
    "dt = 90\n",
    "\n",
    "window_size_vec = [5, 25]\n",
    "\n",
    "for window_size in window_size_vec:\n",
    "    w_str = str(window_size)\n",
    "    c_time = dt*(window_size-1)\n",
    "    buffer_size = window_size // 2\n",
    "    track_index = np.unique(tracks_df[\"track_id\"])\n",
    "\n",
    "    for t, track_id in enumerate(tqdm(track_index)):\n",
    "        track_bool = tracks_df[\"track_id\"] == track_id\n",
    "\n",
    "        if np.sum(track_bool) >= window_size:\n",
    "            xyz = tracks_df.loc[track_bool, [\"x\", \"y\", \"z\"]].to_numpy()\n",
    "\n",
    "            # get contour length\n",
    "            d1 = np.sqrt(np.sum(np.diff(xyz, 1, axis=0)**2, axis=1))\n",
    "            d1_cs = np.cumsum(d1)\n",
    "            cs1 = d1_cs[window_size-2:]\n",
    "            cs2 = np.concatenate(([0], d1_cs[:-window_size+1]))\n",
    "            contour_r = cs1 - cs2\n",
    "\n",
    "            # get net displacement\n",
    "            net_r = np.sqrt(np.sum((xyz[window_size-1:, :] - xyz[:-window_size+1, :])**2, axis=1))\n",
    "\n",
    "            # assign to tracks df\n",
    "            to_indices = np.where(track_bool)[0]\n",
    "            to_indices = to_indices[buffer_size:-buffer_size]\n",
    "            tracks_df.loc[to_indices, \"speed_\" + w_str] = contour_r / c_time\n",
    "            tracks_df.loc[to_indices, \"speed_net_\" + w_str] = net_r / c_time\n",
    "            tracks_df.loc[to_indices, \"coherence_\" + w_str] = net_r / contour_r\n",
    "\n",
    "\n",
    "        "
   ]
  },
  {
   "cell_type": "code",
   "execution_count": null,
   "metadata": {},
   "outputs": [],
   "source": [
    "import plotly.express as px\n",
    "\n",
    "track_id = 101\n",
    "fig = px.scatter(tracks_df.loc[tracks_df[\"track_id\"]==track_id], x=\"t\", y=\"speed_5\", color=\"t\", template=\"plotly\")\n",
    "fig.show()"
   ]
  },
  {
   "cell_type": "code",
   "execution_count": null,
   "metadata": {},
   "outputs": [],
   "source": [
    "fig = px.density_contour(tracks_df, x=\"speed_25\", y=\"speed_net_25\")\n",
    "fig.update_traces(contours_coloring=\"fill\", contours_showlabels = True, colorscale=\"Blues\")\n",
    "fig.show()"
   ]
  },
  {
   "cell_type": "code",
   "execution_count": null,
   "metadata": {},
   "outputs": [],
   "source": [
    "fig = px.density_contour(tracks_df, x=\"t\", y=\"coherence_25\")\n",
    "fig.update_traces(contours_coloring=\"fill\", contours_showlabels = True, colorscale=\"Blues\")\n",
    "fig.show()"
   ]
  },
  {
   "cell_type": "code",
   "execution_count": null,
   "metadata": {},
   "outputs": [],
   "source": [
    "shape_df = pd.read_csv(os.path.join(tracking_directory, \"cell_shape_df.csv\"))\n",
    "shape_df.head()"
   ]
  },
  {
   "cell_type": "code",
   "execution_count": null,
   "metadata": {},
   "outputs": [],
   "source": [
    "fig = px.density_contour(shape_df, x=\"t\", y=\"circularity\")\n",
    "fig.update_traces(contours_coloring=\"fill\", contours_showlabels = True, colorscale=\"Blues\")\n",
    "fig.show()"
   ]
  },
  {
   "cell_type": "code",
   "execution_count": null,
   "metadata": {},
   "outputs": [],
   "source": [
    "master_df = tracks_df.merge(shape_df, on=[\"track_id\", \"t\"], how=\"left\")"
   ]
  },
  {
   "cell_type": "code",
   "execution_count": null,
   "metadata": {},
   "outputs": [],
   "source": [
    "master_df[\"time_id\"] = np.floor(master_df[\"t\"].to_numpy()/350).astype(int)\n",
    "\n",
    "fig = px.density_contour(master_df, x=\"complexity\", y=\"speed_25\", color=\"time_id\", template=\"plotly\")\n",
    "# fig.update_traces(contours_coloring=\"fill\", contours_showlabels = True, colorscale=\"Blues\")\n",
    "fig.show()"
   ]
  },
  {
   "cell_type": "code",
   "execution_count": null,
   "metadata": {},
   "outputs": [],
   "source": [
    "fig = px.density_contour(master_df, x=\"circularity\", y=\"speed_25\")\n",
    "fig.update_traces(contours_coloring=\"fill\", contours_showlabels = True, colorscale=\"Blues\")\n",
    "fig.show()"
   ]
  },
  {
   "cell_type": "code",
   "execution_count": null,
   "metadata": {},
   "outputs": [],
   "source": []
  }
 ],
 "metadata": {
  "kernelspec": {
   "display_name": "Python 3 (ipykernel)",
   "language": "python",
   "name": "python3"
  },
  "language_info": {
   "codemirror_mode": {
    "name": "ipython",
    "version": 3
   },
   "file_extension": ".py",
   "mimetype": "text/x-python",
   "name": "python",
   "nbconvert_exporter": "python",
   "pygments_lexer": "ipython3",
   "version": "3.10.10"
  }
 },
 "nbformat": 4,
 "nbformat_minor": 1
}
